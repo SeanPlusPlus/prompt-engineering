{
 "cells": [
  {
   "cell_type": "code",
   "execution_count": 1,
   "id": "00b358fe",
   "metadata": {},
   "outputs": [],
   "source": [
    "import openai"
   ]
  },
  {
   "cell_type": "code",
   "execution_count": 2,
   "id": "39359121",
   "metadata": {},
   "outputs": [],
   "source": [
    "import os"
   ]
  },
  {
   "cell_type": "code",
   "execution_count": 3,
   "id": "b03d41c8",
   "metadata": {},
   "outputs": [],
   "source": [
    "from dotenv import load_dotenv"
   ]
  },
  {
   "cell_type": "code",
   "execution_count": 4,
   "id": "27bf412d",
   "metadata": {},
   "outputs": [
    {
     "data": {
      "text/plain": [
       "True"
      ]
     },
     "execution_count": 4,
     "metadata": {},
     "output_type": "execute_result"
    }
   ],
   "source": [
    "load_dotenv()"
   ]
  },
  {
   "cell_type": "code",
   "execution_count": 5,
   "id": "7d4709c7",
   "metadata": {
    "scrolled": true
   },
   "outputs": [],
   "source": [
    "OPENAI_API_KEY=os.getenv('OPENAI_API_KEY')"
   ]
  },
  {
   "cell_type": "code",
   "execution_count": 6,
   "id": "57d431b5",
   "metadata": {},
   "outputs": [],
   "source": [
    "def get_completion(prompt, model=\"gpt-3.5-turbo\"):\n",
    "    messages = [{\"role\": \"user\", \"content\": prompt}]\n",
    "    response = openai.ChatCompletion.create(\n",
    "        model=model,\n",
    "        messages=messages,\n",
    "        temperature=0,\n",
    "    )\n",
    "    return response.choices[0].message[\"content\"]"
   ]
  },
  {
   "cell_type": "code",
   "execution_count": 7,
   "id": "7cd02c58",
   "metadata": {},
   "outputs": [],
   "source": [
    "f = open(\"./static-electricity.txt\", \"r\")"
   ]
  },
  {
   "cell_type": "code",
   "execution_count": 8,
   "id": "c771ccef",
   "metadata": {},
   "outputs": [],
   "source": [
    "lines = f.readlines()"
   ]
  },
  {
   "cell_type": "code",
   "execution_count": 9,
   "id": "1f7ba8ca",
   "metadata": {},
   "outputs": [
    {
     "name": "stdout",
     "output_type": "stream",
     "text": [
      "['Static electricity is a type of electric charge that is produced when two objects rub against each other and electrons transfer from one object to the other. These objects can be anything from your hair and a balloon to your clothes and the carpet. When this happens, one object becomes positively charged because it lost some electrons, and the other object becomes negatively charged because it gained some electrons. The resulting charge imbalance creates a build-up of potential energy, which can discharge as a spark or shock when the charged object comes into contact with a conductor, like a doorknob or another person. This is why you may sometimes feel a shock when you touch a metal object after walking across a carpeted floor. Overall, static electricity is a natural phenomenon that occurs when certain materials interact with each other and can be observed in many everyday situations.']\n"
     ]
    }
   ],
   "source": [
    "print(lines)"
   ]
  },
  {
   "cell_type": "code",
   "execution_count": 11,
   "id": "483b7f33",
   "metadata": {},
   "outputs": [],
   "source": [
    "text = lines[0]"
   ]
  },
  {
   "cell_type": "code",
   "execution_count": 12,
   "id": "636130a8",
   "metadata": {},
   "outputs": [],
   "source": [
    "prompt = f\"\"\"Summarize the text delimited by triple backticks into a single sentence. ```{text}```\"\"\""
   ]
  },
  {
   "cell_type": "code",
   "execution_count": 14,
   "id": "bfaa3b9b",
   "metadata": {},
   "outputs": [],
   "source": [
    "openai.api_key = OPENAI_API_KEY"
   ]
  },
  {
   "cell_type": "code",
   "execution_count": 15,
   "id": "2b2e5ce5",
   "metadata": {},
   "outputs": [],
   "source": [
    "response = get_completion(prompt)"
   ]
  },
  {
   "cell_type": "code",
   "execution_count": 16,
   "id": "d9ee4650",
   "metadata": {},
   "outputs": [
    {
     "name": "stdout",
     "output_type": "stream",
     "text": [
      "Static electricity is produced when two objects rub against each other, causing electrons to transfer and creating a charge imbalance that can discharge as a spark or shock when the charged object comes into contact with a conductor.\n"
     ]
    }
   ],
   "source": [
    "print(response)"
   ]
  },
  {
   "cell_type": "code",
   "execution_count": 17,
   "id": "0c9368d4",
   "metadata": {},
   "outputs": [],
   "source": [
    "prompt = f\"\"\"Generate a list of 3 made-up book titles \\\n",
    "along with their authors and genres. Provide them in \\\n",
    "JSON format with the following keys: \\\n",
    "book_id, title, author, genre.\n",
    "\"\"\""
   ]
  },
  {
   "cell_type": "code",
   "execution_count": 18,
   "id": "f40c0293",
   "metadata": {},
   "outputs": [
    {
     "name": "stdout",
     "output_type": "stream",
     "text": [
      "Generate a list of 3 made-up book titles along with their authors and genres. Provide them in JSON format with the following keys: book_id, title, author, genre.\n",
      "\n"
     ]
    }
   ],
   "source": [
    "print(prompt)"
   ]
  },
  {
   "cell_type": "code",
   "execution_count": 19,
   "id": "e1e0bde6",
   "metadata": {},
   "outputs": [],
   "source": [
    "response = get_completion(prompt)"
   ]
  },
  {
   "cell_type": "code",
   "execution_count": 20,
   "id": "ca4ad01e",
   "metadata": {},
   "outputs": [
    {
     "name": "stdout",
     "output_type": "stream",
     "text": [
      "{\n",
      "  \"book1\": {\n",
      "    \"book_id\": \"B001\",\n",
      "    \"title\": \"The Lost City\",\n",
      "    \"author\": \"Samantha Green\",\n",
      "    \"genre\": \"Adventure\"\n",
      "  },\n",
      "  \"book2\": {\n",
      "    \"book_id\": \"B002\",\n",
      "    \"title\": \"The Secret Garden\",\n",
      "    \"author\": \"Emily White\",\n",
      "    \"genre\": \"Fantasy\"\n",
      "  },\n",
      "  \"book3\": {\n",
      "    \"book_id\": \"B003\",\n",
      "    \"title\": \"The Last Hope\",\n",
      "    \"author\": \"David Black\",\n",
      "    \"genre\": \"Science Fiction\"\n",
      "  }\n",
      "}\n"
     ]
    }
   ],
   "source": [
    "print(response)"
   ]
  },
  {
   "cell_type": "code",
   "execution_count": 21,
   "id": "570a7f4c",
   "metadata": {},
   "outputs": [
    {
     "name": "stdout",
     "output_type": "stream",
     "text": [
      "\n",
      "Completion for prompt 2:\n",
      "Summary: Static electricity is created when two objects rub against each other, causing a transfer of electrons and resulting in a build-up of potential energy that can discharge as a spark or shock when the charged object comes into contact with a conductor. \n",
      "Translation: L'électricité statique est créée lorsque deux objets se frottent l'un contre l'autre, provoquant un transfert d'électrons et entraînant une accumulation d'énergie potentielle qui peut se décharger sous forme d'étincelle ou de choc lorsque l'objet chargé entre en contact avec un conducteur.\n",
      "Names: N/A\n",
      "Output JSON: {\"french_summary\": \"L'électricité statique est créée lorsque deux objets se frottent l'un contre l'autre, provoquant un transfert d'électrons et entraînant une accumulation d'énergie potentielle qui peut se décharger sous forme d'étincelle ou de choc lorsque l'objet chargé entre en contact avec un conducteur.\", \"num_names\": 0}\n"
     ]
    }
   ],
   "source": [
    "prompt_2 = f\"\"\"\n",
    "Your task is to perform the following actions: \n",
    "1 - Summarize the following text delimited by \n",
    "  <> with 1 sentence.\n",
    "2 - Translate the summary into French.\n",
    "3 - List each name in the French summary.\n",
    "4 - Output a json object that contains the \n",
    "  following keys: french_summary, num_names.\n",
    "\n",
    "Use the following format:\n",
    "Text: <text to summarize>\n",
    "Summary: <summary>\n",
    "Translation: <summary translation>\n",
    "Names: <list of names in Italian summary>\n",
    "Output JSON: <json with summary and num_names>\n",
    "\n",
    "Text: <{text}>\n",
    "\"\"\"\n",
    "response = get_completion(prompt_2)\n",
    "print(\"\\nCompletion for prompt 2:\")\n",
    "print(response)"
   ]
  },
  {
   "cell_type": "code",
   "execution_count": 22,
   "id": "1cb0cb13",
   "metadata": {},
   "outputs": [],
   "source": [
    "text = f\"\"\"\n",
    "In a charming village, siblings Jack and Jill set out on \\ \n",
    "a quest to fetch water from a hilltop \\ \n",
    "well. As they climbed, singing joyfully, misfortune \\ \n",
    "struck—Jack tripped on a stone and tumbled \\ \n",
    "down the hill, with Jill following suit. \\ \n",
    "Though slightly battered, the pair returned home to \\ \n",
    "comforting embraces. Despite the mishap, \\ \n",
    "their adventurous spirits remained undimmed, and they \\ \n",
    "continued exploring with delight.\n",
    "\"\"\""
   ]
  },
  {
   "cell_type": "code",
   "execution_count": 23,
   "id": "46d71e52",
   "metadata": {},
   "outputs": [
    {
     "name": "stdout",
     "output_type": "stream",
     "text": [
      "\n",
      "Completion for prompt 2:\n",
      "Summary: Jack and Jill go on a quest to fetch water, but misfortune strikes and they tumble down the hill, returning home slightly battered but with their adventurous spirits undimmed. \n",
      "Translation: Jack et Jill partent en quête d'eau, mais un malheur frappe et ils tombent de la colline, rentrant chez eux légèrement meurtris mais avec leurs esprits aventureux intacts.\n",
      "Names: Jack, Jill\n",
      "Output JSON: {\"french_summary\": \"Jack et Jill partent en quête d'eau, mais un malheur frappe et ils tombent de la colline, rentrant chez eux légèrement meurtris mais avec leurs esprits aventureux intacts.\", \"num_names\": 2}\n"
     ]
    }
   ],
   "source": [
    "prompt_2 = f\"\"\"\n",
    "Your task is to perform the following actions: \n",
    "1 - Summarize the following text delimited by \n",
    "  <> with 1 sentence.\n",
    "2 - Translate the summary into French.\n",
    "3 - List each name in the French summary.\n",
    "4 - Output a json object that contains the \n",
    "  following keys: french_summary, num_names.\n",
    "\n",
    "Use the following format:\n",
    "Text: <text to summarize>\n",
    "Summary: <summary>\n",
    "Translation: <summary translation>\n",
    "Names: <list of names in Italian summary>\n",
    "Output JSON: <json with summary and num_names>\n",
    "\n",
    "Text: <{text}>\n",
    "\"\"\"\n",
    "response = get_completion(prompt_2)\n",
    "print(\"\\nCompletion for prompt 2:\")\n",
    "print(response)"
   ]
  }
 ],
 "metadata": {
  "kernelspec": {
   "display_name": "Python 3 (ipykernel)",
   "language": "python",
   "name": "python3"
  },
  "language_info": {
   "codemirror_mode": {
    "name": "ipython",
    "version": 3
   },
   "file_extension": ".py",
   "mimetype": "text/x-python",
   "name": "python",
   "nbconvert_exporter": "python",
   "pygments_lexer": "ipython3",
   "version": "3.11.3"
  }
 },
 "nbformat": 4,
 "nbformat_minor": 5
}
