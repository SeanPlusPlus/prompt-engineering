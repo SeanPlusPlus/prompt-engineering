{
 "cells": [
  {
   "cell_type": "code",
   "execution_count": 1,
   "id": "86f43ffa",
   "metadata": {},
   "outputs": [],
   "source": [
    "import openai"
   ]
  },
  {
   "cell_type": "code",
   "execution_count": 2,
   "id": "d9e6a889",
   "metadata": {},
   "outputs": [],
   "source": [
    "import os"
   ]
  },
  {
   "cell_type": "code",
   "execution_count": 3,
   "id": "9bd84c4d",
   "metadata": {},
   "outputs": [],
   "source": [
    "from dotenv import load_dotenv"
   ]
  },
  {
   "cell_type": "code",
   "execution_count": 4,
   "id": "404b3370",
   "metadata": {},
   "outputs": [
    {
     "data": {
      "text/plain": [
       "True"
      ]
     },
     "execution_count": 4,
     "metadata": {},
     "output_type": "execute_result"
    }
   ],
   "source": [
    "load_dotenv()"
   ]
  },
  {
   "cell_type": "code",
   "execution_count": 5,
   "id": "22c93be8",
   "metadata": {
    "scrolled": true
   },
   "outputs": [],
   "source": [
    "OPENAI_API_KEY=os.getenv('OPENAI_API_KEY')"
   ]
  },
  {
   "cell_type": "code",
   "execution_count": 6,
   "id": "5449b091",
   "metadata": {},
   "outputs": [],
   "source": [
    "def get_completion(prompt, model=\"gpt-3.5-turbo\"):\n",
    "    messages = [{\"role\": \"user\", \"content\": prompt}]\n",
    "    response = openai.ChatCompletion.create(\n",
    "        model=model,\n",
    "        messages=messages,\n",
    "        temperature=0,\n",
    "    )\n",
    "    return response.choices[0].message[\"content\"]"
   ]
  },
  {
   "cell_type": "code",
   "execution_count": 7,
   "id": "4bc1cd1b",
   "metadata": {},
   "outputs": [],
   "source": [
    "f = open(\"./static-electricity.txt\", \"r\")"
   ]
  },
  {
   "cell_type": "code",
   "execution_count": 8,
   "id": "3d6dd6de",
   "metadata": {},
   "outputs": [],
   "source": [
    "lines = f.readlines()"
   ]
  },
  {
   "cell_type": "code",
   "execution_count": 9,
   "id": "ab9963cd",
   "metadata": {},
   "outputs": [
    {
     "name": "stdout",
     "output_type": "stream",
     "text": [
      "['Static electricity is a type of electric charge that is produced when two objects rub against each other and electrons transfer from one object to the other. These objects can be anything from your hair and a balloon to your clothes and the carpet. When this happens, one object becomes positively charged because it lost some electrons, and the other object becomes negatively charged because it gained some electrons. The resulting charge imbalance creates a build-up of potential energy, which can discharge as a spark or shock when the charged object comes into contact with a conductor, like a doorknob or another person. This is why you may sometimes feel a shock when you touch a metal object after walking across a carpeted floor. Overall, static electricity is a natural phenomenon that occurs when certain materials interact with each other and can be observed in many everyday situations.']\n"
     ]
    }
   ],
   "source": [
    "print(lines)"
   ]
  },
  {
   "cell_type": "code",
   "execution_count": 11,
   "id": "f06b8e2b",
   "metadata": {},
   "outputs": [],
   "source": [
    "text = lines[0]"
   ]
  },
  {
   "cell_type": "code",
   "execution_count": 12,
   "id": "2710c233",
   "metadata": {},
   "outputs": [],
   "source": [
    "prompt = f\"\"\"Summarize the text delimited by triple backticks into a single sentence. ```{text}```\"\"\""
   ]
  },
  {
   "cell_type": "code",
   "execution_count": 14,
   "id": "533bca62",
   "metadata": {},
   "outputs": [],
   "source": [
    "openai.api_key = OPENAI_API_KEY"
   ]
  },
  {
   "cell_type": "code",
   "execution_count": 15,
   "id": "a38dcc75",
   "metadata": {},
   "outputs": [],
   "source": [
    "response = get_completion(prompt)"
   ]
  },
  {
   "cell_type": "code",
   "execution_count": 16,
   "id": "d3bd1d79",
   "metadata": {},
   "outputs": [
    {
     "name": "stdout",
     "output_type": "stream",
     "text": [
      "Static electricity is produced when two objects rub against each other, causing electrons to transfer and creating a charge imbalance that can discharge as a spark or shock when the charged object comes into contact with a conductor.\n"
     ]
    }
   ],
   "source": [
    "print(response)"
   ]
  },
  {
   "cell_type": "code",
   "execution_count": 17,
   "id": "f7c8f5fd",
   "metadata": {},
   "outputs": [],
   "source": [
    "prompt = f\"\"\"Generate a list of 3 made-up book titles \\\n",
    "along with their authors and genres. Provide them in \\\n",
    "JSON format with the following keys: \\\n",
    "book_id, title, author, genre.\n",
    "\"\"\""
   ]
  },
  {
   "cell_type": "code",
   "execution_count": 18,
   "id": "73d23683",
   "metadata": {},
   "outputs": [
    {
     "name": "stdout",
     "output_type": "stream",
     "text": [
      "Generate a list of 3 made-up book titles along with their authors and genres. Provide them in JSON format with the following keys: book_id, title, author, genre.\n",
      "\n"
     ]
    }
   ],
   "source": [
    "print(prompt)"
   ]
  },
  {
   "cell_type": "code",
   "execution_count": 19,
   "id": "f311fb14",
   "metadata": {},
   "outputs": [],
   "source": [
    "response = get_completion(prompt)"
   ]
  },
  {
   "cell_type": "code",
   "execution_count": 20,
   "id": "ab271dfd",
   "metadata": {},
   "outputs": [
    {
     "name": "stdout",
     "output_type": "stream",
     "text": [
      "{\n",
      "  \"book1\": {\n",
      "    \"book_id\": \"B001\",\n",
      "    \"title\": \"The Lost City\",\n",
      "    \"author\": \"Samantha Green\",\n",
      "    \"genre\": \"Adventure\"\n",
      "  },\n",
      "  \"book2\": {\n",
      "    \"book_id\": \"B002\",\n",
      "    \"title\": \"The Secret Garden\",\n",
      "    \"author\": \"Emily White\",\n",
      "    \"genre\": \"Fantasy\"\n",
      "  },\n",
      "  \"book3\": {\n",
      "    \"book_id\": \"B003\",\n",
      "    \"title\": \"The Last Hope\",\n",
      "    \"author\": \"David Black\",\n",
      "    \"genre\": \"Science Fiction\"\n",
      "  }\n",
      "}\n"
     ]
    }
   ],
   "source": [
    "print(response)"
   ]
  }
 ],
 "metadata": {
  "kernelspec": {
   "display_name": "Python 3 (ipykernel)",
   "language": "python",
   "name": "python3"
  },
  "language_info": {
   "codemirror_mode": {
    "name": "ipython",
    "version": 3
   },
   "file_extension": ".py",
   "mimetype": "text/x-python",
   "name": "python",
   "nbconvert_exporter": "python",
   "pygments_lexer": "ipython3",
   "version": "3.11.3"
  }
 },
 "nbformat": 4,
 "nbformat_minor": 5
}
